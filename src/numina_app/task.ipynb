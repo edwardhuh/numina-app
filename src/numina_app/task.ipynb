{
 "cells": [
  {
   "cell_type": "code",
   "execution_count": 10,
   "metadata": {},
   "outputs": [],
   "source": [
    "import pandas as pd\n",
    "import matplotlib.pyplot as plt\n",
    "from PIL import Image, ImageDraw\n",
    "import missingno as msno\n"
   ]
  },
  {
   "cell_type": "markdown",
   "metadata": {},
   "source": [
    "Task Specification:\n",
    "Patterns of behavior in different regions of the sensor view as defined by behavior zones.\n",
    "1. Pedestrians using the ramp vs stairs\n",
    "2. Bicycles using the sidewalk vs bikelane.\n",
    "\n",
    "In each case, we want to see how counts vary over the course of the day.\n",
    "\n",
    "\n",
    "So, some important things are object detection + DEEPSORT (object tracking) for the actual counting process."
   ]
  },
  {
   "cell_type": "code",
   "execution_count": 11,
   "metadata": {},
   "outputs": [],
   "source": [
    "behavior_zones = pd.read_csv('../../data/behavior_zones.csv')\n",
    "data = pd.read_csv('../../data/data.csv')\n",
    "img_filepath = ('../../data/sample_image.jpg')"
   ]
  },
  {
   "cell_type": "code",
   "execution_count": 35,
   "metadata": {},
   "outputs": [],
   "source": [
    "# behavior_zones seems to contain regions in the sensor view. \n",
    "# Visualize to make sense of the regions:\n",
    "\n",
    "img = Image.open(img_filepath)\n",
    "Drawer = ImageDraw.Draw(img)\n",
    "for _, rows in behavior_zones.iterrows():\n",
    "    box=[rows['xmin'], rows['ymin'], rows['xmax'], rows['ymax']]\n",
    "    Drawer.rectangle(box, fill=None)\n",
    "\n",
    "img.show()"
   ]
  },
  {
   "cell_type": "code",
   "execution_count": 21,
   "metadata": {},
   "outputs": [
    {
     "data": {
      "text/html": [
       "<div>\n",
       "<style scoped>\n",
       "    .dataframe tbody tr th:only-of-type {\n",
       "        vertical-align: middle;\n",
       "    }\n",
       "\n",
       "    .dataframe tbody tr th {\n",
       "        vertical-align: top;\n",
       "    }\n",
       "\n",
       "    .dataframe thead th {\n",
       "        text-align: right;\n",
       "    }\n",
       "</style>\n",
       "<table border=\"1\" class=\"dataframe\">\n",
       "  <thead>\n",
       "    <tr style=\"text-align: right;\">\n",
       "      <th></th>\n",
       "      <th>behavior_zone</th>\n",
       "      <th>xmin</th>\n",
       "      <th>ymin</th>\n",
       "      <th>xmax</th>\n",
       "      <th>ymax</th>\n",
       "    </tr>\n",
       "  </thead>\n",
       "  <tbody>\n",
       "    <tr>\n",
       "      <th>0</th>\n",
       "      <td>stairs</td>\n",
       "      <td>380</td>\n",
       "      <td>80</td>\n",
       "      <td>530</td>\n",
       "      <td>200</td>\n",
       "    </tr>\n",
       "    <tr>\n",
       "      <th>1</th>\n",
       "      <td>ramp</td>\n",
       "      <td>70</td>\n",
       "      <td>100</td>\n",
       "      <td>350</td>\n",
       "      <td>200</td>\n",
       "    </tr>\n",
       "    <tr>\n",
       "      <th>2</th>\n",
       "      <td>sidewalk</td>\n",
       "      <td>180</td>\n",
       "      <td>200</td>\n",
       "      <td>415</td>\n",
       "      <td>280</td>\n",
       "    </tr>\n",
       "    <tr>\n",
       "      <th>3</th>\n",
       "      <td>bikelane</td>\n",
       "      <td>180</td>\n",
       "      <td>290</td>\n",
       "      <td>415</td>\n",
       "      <td>380</td>\n",
       "    </tr>\n",
       "  </tbody>\n",
       "</table>\n",
       "</div>"
      ],
      "text/plain": [
       "  behavior_zone  xmin  ymin  xmax  ymax\n",
       "0        stairs   380    80   530   200\n",
       "1          ramp    70   100   350   200\n",
       "2      sidewalk   180   200   415   280\n",
       "3      bikelane   180   290   415   380"
      ]
     },
     "execution_count": 21,
     "metadata": {},
     "output_type": "execute_result"
    }
   ],
   "source": [
    "# Labels\n",
    "behavior_zones"
   ]
  },
  {
   "cell_type": "code",
   "execution_count": 43,
   "metadata": {},
   "outputs": [
    {
     "data": {
      "text/html": [
       "<div>\n",
       "<style scoped>\n",
       "    .dataframe tbody tr th:only-of-type {\n",
       "        vertical-align: middle;\n",
       "    }\n",
       "\n",
       "    .dataframe tbody tr th {\n",
       "        vertical-align: top;\n",
       "    }\n",
       "\n",
       "    .dataframe thead th {\n",
       "        text-align: right;\n",
       "    }\n",
       "</style>\n",
       "<table border=\"1\" class=\"dataframe\">\n",
       "  <thead>\n",
       "    <tr style=\"text-align: right;\">\n",
       "      <th></th>\n",
       "      <th>trackid</th>\n",
       "      <th>date</th>\n",
       "      <th>time</th>\n",
       "      <th>class</th>\n",
       "      <th>box</th>\n",
       "      <th>bottom_center</th>\n",
       "      <th>geo_bottom_center</th>\n",
       "    </tr>\n",
       "  </thead>\n",
       "  <tbody>\n",
       "    <tr>\n",
       "      <th>count</th>\n",
       "      <td>29904</td>\n",
       "      <td>29904</td>\n",
       "      <td>29904</td>\n",
       "      <td>29904</td>\n",
       "      <td>29904</td>\n",
       "      <td>29904</td>\n",
       "      <td>29904</td>\n",
       "    </tr>\n",
       "    <tr>\n",
       "      <th>unique</th>\n",
       "      <td>1918</td>\n",
       "      <td>1</td>\n",
       "      <td>19153</td>\n",
       "      <td>3</td>\n",
       "      <td>27236</td>\n",
       "      <td>17212</td>\n",
       "      <td>17212</td>\n",
       "    </tr>\n",
       "    <tr>\n",
       "      <th>top</th>\n",
       "      <td>d89224a1727846f2a2d5721387a634a2</td>\n",
       "      <td>2020-05-03</td>\n",
       "      <td>13:20:46.551</td>\n",
       "      <td>pedestrian</td>\n",
       "      <td>[489, 100, 512, 142]</td>\n",
       "      <td>[443, 130]</td>\n",
       "      <td>[40.69936122778756, -73.96268410079243]</td>\n",
       "    </tr>\n",
       "    <tr>\n",
       "      <th>freq</th>\n",
       "      <td>404</td>\n",
       "      <td>29904</td>\n",
       "      <td>8</td>\n",
       "      <td>25493</td>\n",
       "      <td>25</td>\n",
       "      <td>57</td>\n",
       "      <td>57</td>\n",
       "    </tr>\n",
       "  </tbody>\n",
       "</table>\n",
       "</div>"
      ],
      "text/plain": [
       "                                 trackid        date          time  \\\n",
       "count                              29904       29904         29904   \n",
       "unique                              1918           1         19153   \n",
       "top     d89224a1727846f2a2d5721387a634a2  2020-05-03  13:20:46.551   \n",
       "freq                                 404       29904             8   \n",
       "\n",
       "             class                   box bottom_center  \\\n",
       "count        29904                 29904         29904   \n",
       "unique           3                 27236         17212   \n",
       "top     pedestrian  [489, 100, 512, 142]    [443, 130]   \n",
       "freq         25493                    25            57   \n",
       "\n",
       "                              geo_bottom_center  \n",
       "count                                     29904  \n",
       "unique                                    17212  \n",
       "top     [40.69936122778756, -73.96268410079243]  \n",
       "freq                                         57  "
      ]
     },
     "execution_count": 43,
     "metadata": {},
     "output_type": "execute_result"
    }
   ],
   "source": [
    "# We have 1918 unique trackids.\n",
    "data.describe()"
   ]
  },
  {
   "cell_type": "code",
   "execution_count": 44,
   "metadata": {},
   "outputs": [
    {
     "data": {
      "text/plain": [
       "pedestrian    25493\n",
       "bicycle        4406\n",
       "truck             5\n",
       "Name: class, dtype: int64"
      ]
     },
     "execution_count": 44,
     "metadata": {},
     "output_type": "execute_result"
    }
   ],
   "source": [
    "# we only care about the pedestrians for Q1, and bicycles for Q2. This can be identified by 'class'\n",
    "data['class'].value_counts()"
   ]
  },
  {
   "cell_type": "markdown",
   "metadata": {},
   "source": [
    "Gameplan:\n",
    "Create a class object of `pedestrian` and `bicycles` depending on 'class'. -- referring to DEEPSORT code.\n",
    "Step 1. Verify if the `bottom_center` position is within any of the pre-set boundaries listed in `behavior_zone`. \n",
    "Step 2. If the point is inside the set boundary, update the counter. To ensure that we can take care of instances where a pedestrian reaches multiple locations, we should ensure that the pedestrian can qualify for multiple tracks.\n",
    "Step 3. Test how many objects we find -- and see how far it is from 1918. Evaluate.\n",
    "\n",
    "Step 4. Consider ways that I can repeat this. "
   ]
  }
 ],
 "metadata": {
  "interpreter": {
   "hash": "10eeb53a6f346bf09f4b9d11ca011bd468954010f4b7e66ec5718d3e111541fd"
  },
  "kernelspec": {
   "display_name": "Python 3.9.10 ('.venv': poetry)",
   "language": "python",
   "name": "python3"
  },
  "language_info": {
   "codemirror_mode": {
    "name": "ipython",
    "version": 3
   },
   "file_extension": ".py",
   "mimetype": "text/x-python",
   "name": "python",
   "nbconvert_exporter": "python",
   "pygments_lexer": "ipython3",
   "version": "3.9.10"
  },
  "orig_nbformat": 4
 },
 "nbformat": 4,
 "nbformat_minor": 2
}
