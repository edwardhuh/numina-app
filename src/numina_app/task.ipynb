{
 "cells": [
  {
   "cell_type": "code",
   "execution_count": 1,
   "metadata": {},
   "outputs": [],
   "source": [
    "import pandas as pd\n",
    "import matplotlib.pyplot as plt\n",
    "from PIL import Image, ImageDraw\n",
    "import numpy as np\n",
    "import missingno as msno\n",
    "import seaborn as sns\n",
    "from datetime import datetime, date\n",
    "\n",
    "import schema"
   ]
  },
  {
   "cell_type": "markdown",
   "metadata": {},
   "source": [
    "Task Specification:\n",
    "Patterns of behavior in different regions of the sensor view as defined by behavior zones.\n",
    "1. Pedestrians using the ramp vs stairs\n",
    "2. Bicycles using the sidewalk vs bikelane.\n",
    "\n",
    "In each case, we want to see how counts vary over the course of the day.\n",
    "\n",
    "\n",
    "So, some important things are object detection + DEEPSORT (object tracking) for the actual counting process."
   ]
  },
  {
   "cell_type": "code",
   "execution_count": 2,
   "metadata": {},
   "outputs": [
    {
     "data": {
      "text/plain": [
       "Index(['trackid', 'date', 'time', 'class', 'box', 'bottom_center',\n",
       "       'geo_bottom_center'],\n",
       "      dtype='object')"
      ]
     },
     "execution_count": 2,
     "metadata": {},
     "output_type": "execute_result"
    }
   ],
   "source": [
    "behavior_zones = pd.read_csv(\"../../data/behavior_zones.csv\")\n",
    "# data = pd.read_csv(\"../../data/data.csv\", converters={\"geo_bottom_center\": literal_eval, \"bottom_center\": literal_eval})\n",
    "data = pd.read_csv(\"../../data/data.csv\")\n",
    "img_filepath = \"../../data/sample_image.jpg\"\n",
    "data.columns"
   ]
  },
  {
   "cell_type": "code",
   "execution_count": 3,
   "metadata": {},
   "outputs": [
    {
     "data": {
      "text/plain": [
       "trackid                      object\n",
       "date                 datetime64[ns]\n",
       "time                         object\n",
       "class                      category\n",
       "box                          object\n",
       "bottom_center                object\n",
       "geo_bottom_center            object\n",
       "datetime             datetime64[ns]\n",
       "dtype: object"
      ]
     },
     "execution_count": 3,
     "metadata": {},
     "output_type": "execute_result"
    }
   ],
   "source": [
    "# Verify that the schema works as intended\n",
    "data = schema.format_data(data)\n",
    "data.dtypes"
   ]
  },
  {
   "cell_type": "code",
   "execution_count": 4,
   "metadata": {},
   "outputs": [],
   "source": [
    "# behavior_zones seems to contain regions in the sensor view.\n",
    "# Visualize to make sense of the regions:\n",
    "\n",
    "img = Image.open(img_filepath)\n",
    "Drawer = ImageDraw.Draw(img)\n",
    "for _, rows in behavior_zones.iterrows():\n",
    "    box = [rows[\"xmin\"], rows[\"ymin\"], rows[\"xmax\"], rows[\"ymax\"]]\n",
    "    Drawer.rectangle(box, fill=None)\n",
    "\n",
    "# img.show()\n"
   ]
  },
  {
   "cell_type": "code",
   "execution_count": 5,
   "metadata": {},
   "outputs": [
    {
     "data": {
      "text/plain": [
       "<AxesSubplot:>"
      ]
     },
     "execution_count": 5,
     "metadata": {},
     "output_type": "execute_result"
    },
    {
     "data": {
      "image/png": "[encoded data removed]",
      "text/plain": [
       "<Figure size 1800x720 with 2 Axes>"
      ]
     },
     "metadata": {
      "needs_background": "light"
     },
     "output_type": "display_data"
    }
   ],
   "source": [
    "# Inspect missingness in the data, and see if there are immediate correlations that could potentially be identified.\n",
    "msno.matrix(data)\n"
   ]
  },
  {
   "cell_type": "markdown",
   "metadata": {},
   "source": [
    "## Initial Gameplan\n",
    "The following list was what I THOUGHT the game plan should be. I soon realized Step 0 was a gross over-complication. The data format allowed me to go straight to Step 1.\n",
    "\n",
    "* Step 0. Create a class object of `pedestrian` and `bicycles` depending on 'class'. -- referring to DEEPSORT code.\n",
    "* Step 1. Verify if the `bottom_center` position is within any of the pre-set boundaries listed in `behavior_zone`. Will keep track of direction.\n",
    "* Step 2. If the point is inside the set boundary, update the counter. To ensure that we can take care of instances where a pedestrian reaches multiple locations, we should ensure that the `pedestrian` can qualify for multiple tracks.\n",
    "* Step 3. Test how many objects we find -- and see how far it is from 1918. Evaluate.\n",
    "\n",
    "* Step 4. Consider ways that I can make code reproducible. "
   ]
  },
  {
   "cell_type": "markdown",
   "metadata": {},
   "source": [
    "We have four, non-overlapping areas. Since there are only 4, we should see if they traverse any of them -- separately."
   ]
  },
  {
   "cell_type": "code",
   "execution_count": 6,
   "metadata": {},
   "outputs": [],
   "source": [
    "# ## Fixing Datetime columns\n",
    "# data['time'] = pd.to_datetime(data.time, format='%H:%M:%S.%f').dt.time\n",
    "# data['date'] = pd.to_datetime(data.date)\n",
    "# [datetime.combine(date, time) for date, time in zip(data.date, data.loc[:,'time'])]\n"
   ]
  },
  {
   "cell_type": "code",
   "execution_count": 7,
   "metadata": {},
   "outputs": [
    {
     "data": {
      "text/plain": [
       "0    17010\n",
       "1    12894\n",
       "Name: w_any, dtype: int64"
      ]
     },
     "execution_count": 7,
     "metadata": {},
     "output_type": "execute_result"
    }
   ],
   "source": [
    "## Step 1: Classifying coordinates into regions\n",
    "# Seperate coordinates for easier vectorization\n",
    "data.loc[:, 'bottom_x'] = data.bottom_center.map(lambda x: x[0])\n",
    "data.loc[:, 'bottom_y'] = data.bottom_center.map(lambda x: x[1])\n",
    "\n",
    "# Dummy variables for each region\n",
    "data['w_stairs'] = data.bottom_x.between(380, 530) & data.bottom_y.between(80, 200)\n",
    "data['w_ramp'] = data.bottom_x.between(70, 350) & data.bottom_y.between(100, 200)\n",
    "data['w_sidewalk'] = data.bottom_x.between(180, 415) & data.bottom_y.between(200, 280)\n",
    "data['w_bikelane'] = data.bottom_x.between(180, 415) & data.bottom_y.between(290, 380)\n",
    "\n",
    "# just verifying that there aren't multi-classifications\n",
    "within_cols = data.columns[data.columns.str.startswith('w_')].tolist()\n",
    "data['w_any'] = data[within_cols].sum(axis=1)\n",
    "assert data.w_any.max() == 1\n",
    "\n",
    "data['w_any'].value_counts()"
   ]
  },
  {
   "cell_type": "code",
   "execution_count": 8,
   "metadata": {},
   "outputs": [
    {
     "data": {
      "text/plain": [
       "count    1559.000000\n",
       "mean        8.270686\n",
       "std        14.019695\n",
       "min         1.000000\n",
       "25%         3.000000\n",
       "50%         5.000000\n",
       "75%         9.000000\n",
       "max       176.000000\n",
       "Name: time_counts, dtype: float64"
      ]
     },
     "execution_count": 8,
     "metadata": {},
     "output_type": "execute_result"
    }
   ],
   "source": [
    "# remove entries that do not contribute to count\n",
    "count_data = data[data[\"w_any\"] > 0].reset_index(drop=True).drop(columns=['box', 'w_any', 'bottom_center'])\n",
    "first_counts = (\n",
    "    count_data.sort_values(by=[\"time\"]).groupby(\"trackid\", as_index=False).first()\n",
    ").rename(columns={'time': 'enter_time'})\n",
    "last_counts = (\n",
    "    count_data.sort_values(by=[\"time\"]).groupby(\"trackid\", as_index=False).last()\n",
    ").rename(columns={'time': 'exit_time'})\n",
    "total_counts = (\n",
    "    count_data.sort_values(by=['time']).groupby(\"trackid\", as_index=False)['time'].count()\n",
    ").rename(columns={'time': 'time_counts'})\n",
    "\n",
    "assert (first_counts.shape == last_counts.shape)\n",
    "total_counts['time_counts'].describe()"
   ]
  },
  {
   "cell_type": "code",
   "execution_count": 9,
   "metadata": {},
   "outputs": [],
   "source": [
    "count_data = first_counts.merge(\n",
    "    last_counts, on=[\"trackid\", \"class\"] + within_cols, suffixes=(\"_enter\", \"_exit\")\n",
    ").merge(total_counts)\n",
    "# remove those that just have one instance -- refer to Appendix\n",
    "count_data = count_data[count_data['time_counts'] > 1]\n",
    "\n",
    "count_data['where_am_i'] = count_data[within_cols].idxmax(axis=1) # this is safe, because I have verified every row has entry\n",
    "count_data = count_data.drop(columns=within_cols)"
   ]
  },
  {
   "cell_type": "code",
   "execution_count": 10,
   "metadata": {},
   "outputs": [
    {
     "data": {
      "text/html": [
       "<div>\n",
       "<style scoped>\n",
       "    .dataframe tbody tr th:only-of-type {\n",
       "        vertical-align: middle;\n",
       "    }\n",
       "\n",
       "    .dataframe tbody tr th {\n",
       "        vertical-align: top;\n",
       "    }\n",
       "\n",
       "    .dataframe thead th {\n",
       "        text-align: right;\n",
       "    }\n",
       "</style>\n",
       "<table border=\"1\" class=\"dataframe\">\n",
       "  <thead>\n",
       "    <tr style=\"text-align: right;\">\n",
       "      <th></th>\n",
       "      <th>trackid</th>\n",
       "      <th>date_enter</th>\n",
       "      <th>enter_time</th>\n",
       "      <th>class</th>\n",
       "      <th>geo_bottom_center_enter</th>\n",
       "      <th>datetime_enter</th>\n",
       "      <th>bottom_x_enter</th>\n",
       "      <th>bottom_y_enter</th>\n",
       "      <th>date_exit</th>\n",
       "      <th>exit_time</th>\n",
       "      <th>geo_bottom_center_exit</th>\n",
       "      <th>datetime_exit</th>\n",
       "      <th>bottom_x_exit</th>\n",
       "      <th>bottom_y_exit</th>\n",
       "      <th>time_counts</th>\n",
       "      <th>where_am_i</th>\n",
       "    </tr>\n",
       "  </thead>\n",
       "  <tbody>\n",
       "    <tr>\n",
       "      <th>0</th>\n",
       "      <td>00021e3c52304eec9940637cff6c0af0</td>\n",
       "      <td>2020-05-03</td>\n",
       "      <td>16:10:06.533000</td>\n",
       "      <td>pedestrian</td>\n",
       "      <td>[40.69921586515186, -73.96260713950586]</td>\n",
       "      <td>2020-05-03 16:10:06.533</td>\n",
       "      <td>202</td>\n",
       "      <td>271</td>\n",
       "      <td>2020-05-03</td>\n",
       "      <td>16:10:10.873000</td>\n",
       "      <td>[40.69927299320927, -73.96259981011559]</td>\n",
       "      <td>2020-05-03 16:10:10.873</td>\n",
       "      <td>407</td>\n",
       "      <td>230</td>\n",
       "      <td>10</td>\n",
       "      <td>w_sidewalk</td>\n",
       "    </tr>\n",
       "    <tr>\n",
       "      <th>2</th>\n",
       "      <td>017a9e48b59d4c7c93912747b01e7c86</td>\n",
       "      <td>2020-05-03</td>\n",
       "      <td>13:58:17.431000</td>\n",
       "      <td>pedestrian</td>\n",
       "      <td>[40.69923824962516, -73.96256262163347]</td>\n",
       "      <td>2020-05-03 13:58:17.431</td>\n",
       "      <td>391</td>\n",
       "      <td>307</td>\n",
       "      <td>2020-05-03</td>\n",
       "      <td>13:58:18.318000</td>\n",
       "      <td>[40.699206478975746, -73.96257504452788]</td>\n",
       "      <td>2020-05-03 13:58:18.318</td>\n",
       "      <td>237</td>\n",
       "      <td>333</td>\n",
       "      <td>3</td>\n",
       "      <td>w_bikelane</td>\n",
       "    </tr>\n",
       "    <tr>\n",
       "      <th>3</th>\n",
       "      <td>01a710d65e424f809d5e0b4d19fec825</td>\n",
       "      <td>2020-05-03</td>\n",
       "      <td>13:10:46.908000</td>\n",
       "      <td>pedestrian</td>\n",
       "      <td>[40.699340747659555, -73.96260608521398]</td>\n",
       "      <td>2020-05-03 13:10:46.908</td>\n",
       "      <td>529</td>\n",
       "      <td>189</td>\n",
       "      <td>2020-05-03</td>\n",
       "      <td>13:10:53.420000</td>\n",
       "      <td>[40.699334123951544, -73.96260698065248]</td>\n",
       "      <td>2020-05-03 13:10:53.420</td>\n",
       "      <td>517</td>\n",
       "      <td>191</td>\n",
       "      <td>13</td>\n",
       "      <td>w_stairs</td>\n",
       "    </tr>\n",
       "    <tr>\n",
       "      <th>4</th>\n",
       "      <td>01c069defc0546b4969dd88d114ced3e</td>\n",
       "      <td>2020-05-03</td>\n",
       "      <td>11:07:05.730000</td>\n",
       "      <td>pedestrian</td>\n",
       "      <td>[40.699274707710245, -73.96260654260443]</td>\n",
       "      <td>2020-05-03 11:07:05.730</td>\n",
       "      <td>398</td>\n",
       "      <td>222</td>\n",
       "      <td>2020-05-03</td>\n",
       "      <td>11:07:09.445000</td>\n",
       "      <td>[40.69921937912562, -73.96261762184679]</td>\n",
       "      <td>2020-05-03 11:07:09.445</td>\n",
       "      <td>194</td>\n",
       "      <td>253</td>\n",
       "      <td>9</td>\n",
       "      <td>w_sidewalk</td>\n",
       "    </tr>\n",
       "    <tr>\n",
       "      <th>5</th>\n",
       "      <td>01ccca82c73142e4a339d8d7090e80bb</td>\n",
       "      <td>2020-05-03</td>\n",
       "      <td>16:48:25.192000</td>\n",
       "      <td>pedestrian</td>\n",
       "      <td>[40.69921592968284, -73.96260637826896]</td>\n",
       "      <td>2020-05-03 16:48:25.192</td>\n",
       "      <td>204</td>\n",
       "      <td>272</td>\n",
       "      <td>2020-05-03</td>\n",
       "      <td>16:48:29.392000</td>\n",
       "      <td>[40.699267369615, -73.96259322784942]</td>\n",
       "      <td>2020-05-03 16:48:29.392</td>\n",
       "      <td>406</td>\n",
       "      <td>241</td>\n",
       "      <td>10</td>\n",
       "      <td>w_sidewalk</td>\n",
       "    </tr>\n",
       "  </tbody>\n",
       "</table>\n",
       "</div>"
      ],
      "text/plain": [
       "                            trackid date_enter       enter_time       class  \\\n",
       "0  00021e3c52304eec9940637cff6c0af0 2020-05-03  16:10:06.533000  pedestrian   \n",
       "2  017a9e48b59d4c7c93912747b01e7c86 2020-05-03  13:58:17.431000  pedestrian   \n",
       "3  01a710d65e424f809d5e0b4d19fec825 2020-05-03  13:10:46.908000  pedestrian   \n",
       "4  01c069defc0546b4969dd88d114ced3e 2020-05-03  11:07:05.730000  pedestrian   \n",
       "5  01ccca82c73142e4a339d8d7090e80bb 2020-05-03  16:48:25.192000  pedestrian   \n",
       "\n",
       "                    geo_bottom_center_enter          datetime_enter  \\\n",
       "0   [40.69921586515186, -73.96260713950586] 2020-05-03 16:10:06.533   \n",
       "2   [40.69923824962516, -73.96256262163347] 2020-05-03 13:58:17.431   \n",
       "3  [40.699340747659555, -73.96260608521398] 2020-05-03 13:10:46.908   \n",
       "4  [40.699274707710245, -73.96260654260443] 2020-05-03 11:07:05.730   \n",
       "5   [40.69921592968284, -73.96260637826896] 2020-05-03 16:48:25.192   \n",
       "\n",
       "   bottom_x_enter  bottom_y_enter  date_exit        exit_time  \\\n",
       "0             202             271 2020-05-03  16:10:10.873000   \n",
       "2             391             307 2020-05-03  13:58:18.318000   \n",
       "3             529             189 2020-05-03  13:10:53.420000   \n",
       "4             398             222 2020-05-03  11:07:09.445000   \n",
       "5             204             272 2020-05-03  16:48:29.392000   \n",
       "\n",
       "                     geo_bottom_center_exit           datetime_exit  \\\n",
       "0   [40.69927299320927, -73.96259981011559] 2020-05-03 16:10:10.873   \n",
       "2  [40.699206478975746, -73.96257504452788] 2020-05-03 13:58:18.318   \n",
       "3  [40.699334123951544, -73.96260698065248] 2020-05-03 13:10:53.420   \n",
       "4   [40.69921937912562, -73.96261762184679] 2020-05-03 11:07:09.445   \n",
       "5     [40.699267369615, -73.96259322784942] 2020-05-03 16:48:29.392   \n",
       "\n",
       "   bottom_x_exit  bottom_y_exit  time_counts  where_am_i  \n",
       "0            407            230           10  w_sidewalk  \n",
       "2            237            333            3  w_bikelane  \n",
       "3            517            191           13    w_stairs  \n",
       "4            194            253            9  w_sidewalk  \n",
       "5            406            241           10  w_sidewalk  "
      ]
     },
     "execution_count": 10,
     "metadata": {},
     "output_type": "execute_result"
    }
   ],
   "source": [
    "count_data.head()"
   ]
  },
  {
   "cell_type": "markdown",
   "metadata": {},
   "source": [
    "# Next Steps towards the Solution \n",
    "1. Given the quick turnaround, I will bucket the individuals by their datetime_enter. Resample by `hour`, and provide a graph and count.\n",
    "2. For additional context, I would have calculated the velocity of travel using \n",
    "$$\\frac{\\text{geo\\_bottom\\_center\\_exit} - \\text{geo\\_bottom\\_center\\_enter}}{\\text{datetime\\_exit} - \\text{datetime\\_enter}}$$\n",
    "and would also infer direction of travel. Would have included that in Step 1 to modify count.\n",
    "\n",
    "3. Would revise the `first` and `last` classification to ensure that each `trackid` does not have multiple `environment_zone` classification. i.e if a pedestrian stepped into the bike lane due to traffic, this should not affect the counts."
   ]
  },
  {
   "cell_type": "markdown",
   "metadata": {},
   "source": [
    "# Appendix\n",
    "There seems to be a problem where objects stop being detected, and therefore have the same 'enter' and 'exit' timestamps.\n",
    "Given my experience with YOLO and SORT, I know that this is a very common phenomenon. Some potential solutions may be: \n",
    "* kalman filter: we can back-fill the data by generating some predictions on how the object * would-have * moved through the space. (difficulty: HARD)\n",
    "* Expanding the number of tracked objects: Allowing for multi-level object detection. In other words, dont restrict the detection to just `pedestrian`, but also `hat`, `bag`, etc. Classify with same `trackid` via iou of bounding boxes, and at the same `datetime`. So, even if the detector loses track of `pedestrian` bounding box, the measurement may be more robust to failure. (difficulty: MEDIUM)\n",
    "* `class`: the detection or SORT algorithm may be losing track of the object because it is being classified differently (difficulty: EASY)"
   ]
  },
  {
   "cell_type": "code",
   "execution_count": 11,
   "metadata": {},
   "outputs": [
    {
     "data": {
      "text/plain": [
       "pedestrian    708\n",
       "bicycle       417\n",
       "truck           0\n",
       "Name: class, dtype: int64"
      ]
     },
     "execution_count": 11,
     "metadata": {},
     "output_type": "execute_result"
    }
   ],
   "source": [
    "# This problem is relevant to both bicycles and pedestrians. So, it may not be a matter of speed.\n",
    "\n",
    "\n",
    "# There is probably a way to interpolate values. With the data provided prior to entering the bounding boxes.\n",
    "data[data.trackid.isin(total_counts[total_counts['time_counts'] == 1].trackid)]['class'].value_counts()"
   ]
  }
 ],
 "metadata": {
  "interpreter": {
   "hash": "10eeb53a6f346bf09f4b9d11ca011bd468954010f4b7e66ec5718d3e111541fd"
  },
  "kernelspec": {
   "display_name": "Python 3.9.10 ('.venv': poetry)",
   "language": "python",
   "name": "python3"
  },
  "language_info": {
   "codemirror_mode": {
    "name": "ipython",
    "version": 3
   },
   "file_extension": ".py",
   "mimetype": "text/x-python",
   "name": "python",
   "nbconvert_exporter": "python",
   "pygments_lexer": "ipython3",
   "version": "3.9.10"
  },
  "orig_nbformat": 4
 },
 "nbformat": 4,
 "nbformat_minor": 2
}
